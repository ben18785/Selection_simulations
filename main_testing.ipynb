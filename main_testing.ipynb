{
 "cells": [
  {
   "cell_type": "code",
   "execution_count": 1,
   "metadata": {
    "collapsed": true
   },
   "outputs": [],
   "source": [
    "from Selection import Bentley\n",
    "from Selection import FrequencyDependent\n",
    "import pandas\n",
    "from scipy.stats import logistic\n",
    "from joblib import Parallel, delayed\n",
    "import multiprocessing\n",
    "import random\n",
    "import numpy as np\n",
    "import pandas\n",
    "import collections"
   ]
  },
  {
   "cell_type": "markdown",
   "metadata": {},
   "source": [
    "# Neutral"
   ]
  },
  {
   "cell_type": "markdown",
   "metadata": {
    "collapsed": true
   },
   "source": [
    "lPops = FrequencyDependent.runAllFrequency(1000, 250, 0.004, 0, 250)\n",
    "aDF = Bentley.time_series(lPops)\n",
    "pandas.DataFrame(aDF).to_csv(\"time_series_neutral.csv\", sep=',')"
   ]
  },
  {
   "cell_type": "markdown",
   "metadata": {},
   "source": [
    "# Positive"
   ]
  },
  {
   "cell_type": "code",
   "execution_count": 5,
   "metadata": {
    "collapsed": true
   },
   "outputs": [],
   "source": [
    "lPops = FrequencyDependent.runAllFrequency(1000, 250, 0.004, 0.5, 250)\n",
    "aDF = Bentley.time_series(lPops)\n",
    "pandas.DataFrame(aDF).to_csv(\"time_series_positive.csv\", sep=',')"
   ]
  },
  {
   "cell_type": "markdown",
   "metadata": {},
   "source": [
    "# Negative"
   ]
  },
  {
   "cell_type": "code",
   "execution_count": 6,
   "metadata": {
    "collapsed": true
   },
   "outputs": [],
   "source": [
    "lPops = FrequencyDependent.runAllFrequency(1000, 250, 0.004, -0.5, 250)\n",
    "aDF = Bentley.time_series(lPops)\n",
    "pandas.DataFrame(aDF).to_csv(\"time_series_negative.csv\", sep=',')"
   ]
  },
  {
   "cell_type": "code",
   "execution_count": null,
   "metadata": {
    "collapsed": true
   },
   "outputs": [],
   "source": []
  }
 ],
 "metadata": {
  "kernelspec": {
   "display_name": "Python 2",
   "language": "python",
   "name": "python2"
  },
  "language_info": {
   "codemirror_mode": {
    "name": "ipython",
    "version": 2
   },
   "file_extension": ".py",
   "mimetype": "text/x-python",
   "name": "python",
   "nbconvert_exporter": "python",
   "pygments_lexer": "ipython2",
   "version": "2.7.14"
  }
 },
 "nbformat": 4,
 "nbformat_minor": 2
}
